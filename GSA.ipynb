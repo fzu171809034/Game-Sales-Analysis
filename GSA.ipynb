{
 "cells": [
  {
   "cell_type": "code",
   "id": "087c1ed1-0b46-4bd7-bca5-446c46237546",
   "metadata": {
    "ExecuteTime": {
     "end_time": "2024-11-08T23:06:02.589080Z",
     "start_time": "2024-11-08T23:06:02.463212Z"
    }
   },
   "source": [
    "import pandas as pd\n",
    "import numpy\n",
    "import matplotlib.pyplot as plt\n",
    "import seaborn as sns\n",
    "from sklearn.linear_model import LinearRegression\n",
    "from sklearn.model_selection import train_test_split, RandomizedSearchCV\n",
    "from sklearn.metrics import mean_squared_error, mean_absolute_error, r2_score\n",
    "from sklearn.ensemble import RandomForestRegressor\n",
    "from sklearn.preprocessing import LabelEncoder"
   ],
   "outputs": [],
   "execution_count": 1
  },
  {
   "cell_type": "code",
   "id": "308078af-4009-48f1-b01e-3e5ee1bd3923",
   "metadata": {
    "ExecuteTime": {
     "end_time": "2024-11-08T23:06:02.636688Z",
     "start_time": "2024-11-08T23:06:02.610666Z"
    }
   },
   "source": [
    "data = pd.read_csv('vgsales.csv')   #get the data from file\n",
    "data"
   ],
   "outputs": [
    {
     "data": {
      "text/plain": [
       "        Rank                                              Name Platform  \\\n",
       "0          1                                        Wii Sports      Wii   \n",
       "1          2                                 Super Mario Bros.      NES   \n",
       "2          3                                    Mario Kart Wii      Wii   \n",
       "3          4                                 Wii Sports Resort      Wii   \n",
       "4          5                          Pokemon Red/Pokemon Blue       GB   \n",
       "...      ...                                               ...      ...   \n",
       "16593  16596                Woody Woodpecker in Crazy Castle 5      GBA   \n",
       "16594  16597                     Men in Black II: Alien Escape       GC   \n",
       "16595  16598  SCORE International Baja 1000: The Official Game      PS2   \n",
       "16596  16599                                        Know How 2       DS   \n",
       "16597  16600                                  Spirits & Spells      GBA   \n",
       "\n",
       "         Year         Genre   Publisher  NA_Sales  EU_Sales  JP_Sales  \\\n",
       "0      2006.0        Sports    Nintendo     41.49     29.02      3.77   \n",
       "1      1985.0      Platform    Nintendo     29.08      3.58      6.81   \n",
       "2      2008.0        Racing    Nintendo     15.85     12.88      3.79   \n",
       "3      2009.0        Sports    Nintendo     15.75     11.01      3.28   \n",
       "4      1996.0  Role-Playing    Nintendo     11.27      8.89     10.22   \n",
       "...       ...           ...         ...       ...       ...       ...   \n",
       "16593  2002.0      Platform       Kemco      0.01      0.00      0.00   \n",
       "16594  2003.0       Shooter  Infogrames      0.01      0.00      0.00   \n",
       "16595  2008.0        Racing  Activision      0.00      0.00      0.00   \n",
       "16596  2010.0        Puzzle    7G//AMES      0.00      0.01      0.00   \n",
       "16597  2003.0      Platform     Wanadoo      0.01      0.00      0.00   \n",
       "\n",
       "       Other_Sales  Global_Sales  \n",
       "0             8.46         82.74  \n",
       "1             0.77         40.24  \n",
       "2             3.31         35.82  \n",
       "3             2.96         33.00  \n",
       "4             1.00         31.37  \n",
       "...            ...           ...  \n",
       "16593         0.00          0.01  \n",
       "16594         0.00          0.01  \n",
       "16595         0.00          0.01  \n",
       "16596         0.00          0.01  \n",
       "16597         0.00          0.01  \n",
       "\n",
       "[16598 rows x 11 columns]"
      ],
      "text/html": [
       "<div>\n",
       "<style scoped>\n",
       "    .dataframe tbody tr th:only-of-type {\n",
       "        vertical-align: middle;\n",
       "    }\n",
       "\n",
       "    .dataframe tbody tr th {\n",
       "        vertical-align: top;\n",
       "    }\n",
       "\n",
       "    .dataframe thead th {\n",
       "        text-align: right;\n",
       "    }\n",
       "</style>\n",
       "<table border=\"1\" class=\"dataframe\">\n",
       "  <thead>\n",
       "    <tr style=\"text-align: right;\">\n",
       "      <th></th>\n",
       "      <th>Rank</th>\n",
       "      <th>Name</th>\n",
       "      <th>Platform</th>\n",
       "      <th>Year</th>\n",
       "      <th>Genre</th>\n",
       "      <th>Publisher</th>\n",
       "      <th>NA_Sales</th>\n",
       "      <th>EU_Sales</th>\n",
       "      <th>JP_Sales</th>\n",
       "      <th>Other_Sales</th>\n",
       "      <th>Global_Sales</th>\n",
       "    </tr>\n",
       "  </thead>\n",
       "  <tbody>\n",
       "    <tr>\n",
       "      <th>0</th>\n",
       "      <td>1</td>\n",
       "      <td>Wii Sports</td>\n",
       "      <td>Wii</td>\n",
       "      <td>2006.0</td>\n",
       "      <td>Sports</td>\n",
       "      <td>Nintendo</td>\n",
       "      <td>41.49</td>\n",
       "      <td>29.02</td>\n",
       "      <td>3.77</td>\n",
       "      <td>8.46</td>\n",
       "      <td>82.74</td>\n",
       "    </tr>\n",
       "    <tr>\n",
       "      <th>1</th>\n",
       "      <td>2</td>\n",
       "      <td>Super Mario Bros.</td>\n",
       "      <td>NES</td>\n",
       "      <td>1985.0</td>\n",
       "      <td>Platform</td>\n",
       "      <td>Nintendo</td>\n",
       "      <td>29.08</td>\n",
       "      <td>3.58</td>\n",
       "      <td>6.81</td>\n",
       "      <td>0.77</td>\n",
       "      <td>40.24</td>\n",
       "    </tr>\n",
       "    <tr>\n",
       "      <th>2</th>\n",
       "      <td>3</td>\n",
       "      <td>Mario Kart Wii</td>\n",
       "      <td>Wii</td>\n",
       "      <td>2008.0</td>\n",
       "      <td>Racing</td>\n",
       "      <td>Nintendo</td>\n",
       "      <td>15.85</td>\n",
       "      <td>12.88</td>\n",
       "      <td>3.79</td>\n",
       "      <td>3.31</td>\n",
       "      <td>35.82</td>\n",
       "    </tr>\n",
       "    <tr>\n",
       "      <th>3</th>\n",
       "      <td>4</td>\n",
       "      <td>Wii Sports Resort</td>\n",
       "      <td>Wii</td>\n",
       "      <td>2009.0</td>\n",
       "      <td>Sports</td>\n",
       "      <td>Nintendo</td>\n",
       "      <td>15.75</td>\n",
       "      <td>11.01</td>\n",
       "      <td>3.28</td>\n",
       "      <td>2.96</td>\n",
       "      <td>33.00</td>\n",
       "    </tr>\n",
       "    <tr>\n",
       "      <th>4</th>\n",
       "      <td>5</td>\n",
       "      <td>Pokemon Red/Pokemon Blue</td>\n",
       "      <td>GB</td>\n",
       "      <td>1996.0</td>\n",
       "      <td>Role-Playing</td>\n",
       "      <td>Nintendo</td>\n",
       "      <td>11.27</td>\n",
       "      <td>8.89</td>\n",
       "      <td>10.22</td>\n",
       "      <td>1.00</td>\n",
       "      <td>31.37</td>\n",
       "    </tr>\n",
       "    <tr>\n",
       "      <th>...</th>\n",
       "      <td>...</td>\n",
       "      <td>...</td>\n",
       "      <td>...</td>\n",
       "      <td>...</td>\n",
       "      <td>...</td>\n",
       "      <td>...</td>\n",
       "      <td>...</td>\n",
       "      <td>...</td>\n",
       "      <td>...</td>\n",
       "      <td>...</td>\n",
       "      <td>...</td>\n",
       "    </tr>\n",
       "    <tr>\n",
       "      <th>16593</th>\n",
       "      <td>16596</td>\n",
       "      <td>Woody Woodpecker in Crazy Castle 5</td>\n",
       "      <td>GBA</td>\n",
       "      <td>2002.0</td>\n",
       "      <td>Platform</td>\n",
       "      <td>Kemco</td>\n",
       "      <td>0.01</td>\n",
       "      <td>0.00</td>\n",
       "      <td>0.00</td>\n",
       "      <td>0.00</td>\n",
       "      <td>0.01</td>\n",
       "    </tr>\n",
       "    <tr>\n",
       "      <th>16594</th>\n",
       "      <td>16597</td>\n",
       "      <td>Men in Black II: Alien Escape</td>\n",
       "      <td>GC</td>\n",
       "      <td>2003.0</td>\n",
       "      <td>Shooter</td>\n",
       "      <td>Infogrames</td>\n",
       "      <td>0.01</td>\n",
       "      <td>0.00</td>\n",
       "      <td>0.00</td>\n",
       "      <td>0.00</td>\n",
       "      <td>0.01</td>\n",
       "    </tr>\n",
       "    <tr>\n",
       "      <th>16595</th>\n",
       "      <td>16598</td>\n",
       "      <td>SCORE International Baja 1000: The Official Game</td>\n",
       "      <td>PS2</td>\n",
       "      <td>2008.0</td>\n",
       "      <td>Racing</td>\n",
       "      <td>Activision</td>\n",
       "      <td>0.00</td>\n",
       "      <td>0.00</td>\n",
       "      <td>0.00</td>\n",
       "      <td>0.00</td>\n",
       "      <td>0.01</td>\n",
       "    </tr>\n",
       "    <tr>\n",
       "      <th>16596</th>\n",
       "      <td>16599</td>\n",
       "      <td>Know How 2</td>\n",
       "      <td>DS</td>\n",
       "      <td>2010.0</td>\n",
       "      <td>Puzzle</td>\n",
       "      <td>7G//AMES</td>\n",
       "      <td>0.00</td>\n",
       "      <td>0.01</td>\n",
       "      <td>0.00</td>\n",
       "      <td>0.00</td>\n",
       "      <td>0.01</td>\n",
       "    </tr>\n",
       "    <tr>\n",
       "      <th>16597</th>\n",
       "      <td>16600</td>\n",
       "      <td>Spirits &amp; Spells</td>\n",
       "      <td>GBA</td>\n",
       "      <td>2003.0</td>\n",
       "      <td>Platform</td>\n",
       "      <td>Wanadoo</td>\n",
       "      <td>0.01</td>\n",
       "      <td>0.00</td>\n",
       "      <td>0.00</td>\n",
       "      <td>0.00</td>\n",
       "      <td>0.01</td>\n",
       "    </tr>\n",
       "  </tbody>\n",
       "</table>\n",
       "<p>16598 rows × 11 columns</p>\n",
       "</div>"
      ]
     },
     "execution_count": 2,
     "metadata": {},
     "output_type": "execute_result"
    }
   ],
   "execution_count": 2
  },
  {
   "cell_type": "code",
   "id": "34b95f2c-fa4b-427b-b75d-202c46621a11",
   "metadata": {
    "ExecuteTime": {
     "end_time": "2024-11-08T23:06:02.752856Z",
     "start_time": "2024-11-08T23:06:02.746595Z"
    }
   },
   "source": [
    "data.info()\n"
   ],
   "outputs": [
    {
     "name": "stdout",
     "output_type": "stream",
     "text": [
      "<class 'pandas.core.frame.DataFrame'>\n",
      "RangeIndex: 16598 entries, 0 to 16597\n",
      "Data columns (total 11 columns):\n",
      " #   Column        Non-Null Count  Dtype  \n",
      "---  ------        --------------  -----  \n",
      " 0   Rank          16598 non-null  int64  \n",
      " 1   Name          16598 non-null  object \n",
      " 2   Platform      16598 non-null  object \n",
      " 3   Year          16327 non-null  float64\n",
      " 4   Genre         16598 non-null  object \n",
      " 5   Publisher     16540 non-null  object \n",
      " 6   NA_Sales      16598 non-null  float64\n",
      " 7   EU_Sales      16598 non-null  float64\n",
      " 8   JP_Sales      16598 non-null  float64\n",
      " 9   Other_Sales   16598 non-null  float64\n",
      " 10  Global_Sales  16598 non-null  float64\n",
      "dtypes: float64(6), int64(1), object(4)\n",
      "memory usage: 1.4+ MB\n"
     ]
    }
   ],
   "execution_count": 3
  },
  {
   "metadata": {},
   "cell_type": "markdown",
   "source": "## clean data",
   "id": "e04ae5e3fd106600"
  },
  {
   "cell_type": "code",
   "id": "fc978c66-023b-487d-9f82-edd578204c28",
   "metadata": {
    "ExecuteTime": {
     "end_time": "2024-11-08T23:06:02.853725Z",
     "start_time": "2024-11-08T23:06:02.843601Z"
    }
   },
   "source": [
    "\n",
    "data_cleaned = data.dropna(subset = ['Year','Publisher']) \n",
    "print(data_cleaned.info())\n",
    "data_cleaned.isnull().any()     #Check if there is a null value"
   ],
   "outputs": [
    {
     "name": "stdout",
     "output_type": "stream",
     "text": [
      "<class 'pandas.core.frame.DataFrame'>\n",
      "Index: 16291 entries, 0 to 16597\n",
      "Data columns (total 11 columns):\n",
      " #   Column        Non-Null Count  Dtype  \n",
      "---  ------        --------------  -----  \n",
      " 0   Rank          16291 non-null  int64  \n",
      " 1   Name          16291 non-null  object \n",
      " 2   Platform      16291 non-null  object \n",
      " 3   Year          16291 non-null  float64\n",
      " 4   Genre         16291 non-null  object \n",
      " 5   Publisher     16291 non-null  object \n",
      " 6   NA_Sales      16291 non-null  float64\n",
      " 7   EU_Sales      16291 non-null  float64\n",
      " 8   JP_Sales      16291 non-null  float64\n",
      " 9   Other_Sales   16291 non-null  float64\n",
      " 10  Global_Sales  16291 non-null  float64\n",
      "dtypes: float64(6), int64(1), object(4)\n",
      "memory usage: 1.5+ MB\n",
      "None\n"
     ]
    },
    {
     "data": {
      "text/plain": [
       "Rank            False\n",
       "Name            False\n",
       "Platform        False\n",
       "Year            False\n",
       "Genre           False\n",
       "Publisher       False\n",
       "NA_Sales        False\n",
       "EU_Sales        False\n",
       "JP_Sales        False\n",
       "Other_Sales     False\n",
       "Global_Sales    False\n",
       "dtype: bool"
      ]
     },
     "execution_count": 4,
     "metadata": {},
     "output_type": "execute_result"
    }
   ],
   "execution_count": 4
  },
  {
   "metadata": {},
   "cell_type": "markdown",
   "source": "## Data Analysis",
   "id": "cee65341538739cb"
  },
  {
   "cell_type": "code",
   "id": "5bd5bac5-049e-4147-b872-9bf6ba6e7674",
   "metadata": {
    "ExecuteTime": {
     "end_time": "2024-11-08T23:06:03.128708Z",
     "start_time": "2024-11-08T23:06:03.119849Z"
    }
   },
   "source": [
    "# Group by Platform\n",
    "Pf_data = data_cleaned.groupby('Platform')[['NA_Sales', 'EU_Sales', 'JP_Sales', 'Other_Sales', 'Global_Sales']].sum()\n",
    "print(Pf_data)\n",
    "Pf_data['Global_Sales'].nlargest(3)   #Top 3 platforms in Global_Sales\n"
   ],
   "outputs": [
    {
     "name": "stdout",
     "output_type": "stream",
     "text": [
      "          NA_Sales  EU_Sales  JP_Sales  Other_Sales  Global_Sales\n",
      "Platform                                                         \n",
      "2600         80.78      4.86      0.00         0.84         86.57\n",
      "3DO           0.00      0.00      0.10         0.00          0.10\n",
      "3DS          78.03     58.29     97.30        12.55        246.27\n",
      "DC            5.43      1.69      8.56         0.27         15.97\n",
      "DS          388.53    194.05    175.02        60.29        818.91\n",
      "GB          113.64     47.51     85.12         8.16        254.42\n",
      "GBA         178.43     72.49     46.56         7.51        305.62\n",
      "GC          131.94     38.32     21.34         5.13        197.14\n",
      "GEN          19.27      5.52      2.67         0.89         28.36\n",
      "GG            0.00      0.00      0.04         0.00          0.04\n",
      "N64         138.91     41.03     33.76         4.31        218.21\n",
      "NES         125.94     21.15     98.65         5.31        251.07\n",
      "NG            0.00      0.00      1.44         0.00          1.44\n",
      "PC           92.04    137.35      0.17        24.33        254.70\n",
      "PCFX          0.00      0.00      0.03         0.00          0.03\n",
      "PS          334.71    212.38    139.78        40.69        727.39\n",
      "PS2         572.92    332.63    137.54       190.47       1233.46\n",
      "PS3         388.90    340.47     79.21       140.81        949.35\n",
      "PS4          96.80    123.70     14.30        43.36        278.10\n",
      "PSP         107.09     67.16     75.89        41.52        291.71\n",
      "PSV          16.07     16.27     20.86         8.41         61.60\n",
      "SAT           0.72      0.54     32.26         0.07         33.59\n",
      "SCD           1.00      0.36      0.45         0.05          1.87\n",
      "SNES         61.23     19.04    116.55         3.22        200.05\n",
      "TG16          0.00      0.00      0.16         0.00          0.16\n",
      "WS            0.00      0.00      1.42         0.00          1.42\n",
      "Wii         497.37    264.35     68.28        79.20        909.81\n",
      "WiiU         38.32     24.23     12.79         6.45         81.86\n",
      "X360        594.33    278.00     12.30        84.67        969.60\n",
      "XB          182.06     59.65      1.38         8.48        252.09\n",
      "XOne         83.19     45.65      0.34        11.92        141.06\n"
     ]
    },
    {
     "data": {
      "text/plain": [
       "Platform\n",
       "PS2     1233.46\n",
       "X360     969.60\n",
       "PS3      949.35\n",
       "Name: Global_Sales, dtype: float64"
      ]
     },
     "execution_count": 5,
     "metadata": {},
     "output_type": "execute_result"
    }
   ],
   "execution_count": 5
  },
  {
   "cell_type": "code",
   "id": "84f4ab7d-d807-4631-96bb-15d47f8e6dcc",
   "metadata": {
    "ExecuteTime": {
     "end_time": "2024-11-08T23:06:03.254881Z",
     "start_time": "2024-11-08T23:06:03.247977Z"
    }
   },
   "source": [
    "# Group by Genre\n",
    "Ge_data = data_cleaned.groupby('Genre')[['NA_Sales', 'EU_Sales', 'JP_Sales', 'Other_Sales', 'Global_Sales']].sum()\n",
    "print(Ge_data)\n",
    "Ge_data['Global_Sales'].nlargest(3)    #Top 3 genre in Global_Sales\n"
   ],
   "outputs": [
    {
     "name": "stdout",
     "output_type": "stream",
     "text": [
      "              NA_Sales  EU_Sales  JP_Sales  Other_Sales  Global_Sales\n",
      "Genre                                                                \n",
      "Action          861.77    516.48    158.65       184.92       1722.84\n",
      "Adventure       101.93     63.74     51.99        16.70        234.59\n",
      "Fighting        220.74    100.00     87.15        36.19        444.05\n",
      "Misc            396.92    211.77    106.67        73.92        789.87\n",
      "Platform        445.99    200.65    130.65        51.51        829.13\n",
      "Puzzle          122.01     50.52     56.68        12.47        242.21\n",
      "Racing          356.93    236.31     56.61        76.68        726.76\n",
      "Role-Playing    326.50    187.57    350.29        59.38        923.83\n",
      "Shooter         575.16    310.45     38.18       101.90       1026.20\n",
      "Simulation      181.78    113.02     63.54        31.36        389.98\n",
      "Sports          670.09    371.34    134.76       132.65       1309.24\n",
      "Strategy         67.83     44.84     49.10        11.23        173.27\n"
     ]
    },
    {
     "data": {
      "text/plain": [
       "Genre\n",
       "Action     1722.84\n",
       "Sports     1309.24\n",
       "Shooter    1026.20\n",
       "Name: Global_Sales, dtype: float64"
      ]
     },
     "execution_count": 6,
     "metadata": {},
     "output_type": "execute_result"
    }
   ],
   "execution_count": 6
  },
  {
   "metadata": {
    "ExecuteTime": {
     "end_time": "2024-11-08T23:07:49.955880Z",
     "start_time": "2024-11-08T23:07:49.942964Z"
    }
   },
   "cell_type": "code",
   "source": [
    "#Label Encoding\n",
    "data_cleaned = data_cleaned.drop(columns = ['Name', 'Rank'])\n",
    "label_encoder = LabelEncoder()\n",
    "columns = ['Platform', 'Genre', 'Publisher']\n",
    "for column in columns:\n",
    "    data_cleaned[column] = label_encoder.fit_transform(data_cleaned[column])\n",
    "#Correlation \n",
    "corr = data_cleaned.corr()\n",
    "corr"
   ],
   "id": "ad2d6bc8c9ad6724",
   "outputs": [
    {
     "data": {
      "text/plain": [
       "              Platform      Year     Genre  Publisher  NA_Sales  EU_Sales  \\\n",
       "Platform      1.000000  0.167648  0.026665  -0.017938  0.041976  0.046748   \n",
       "Year          0.167648  1.000000 -0.125366   0.029802 -0.091285  0.006108   \n",
       "Genre         0.026665 -0.125366  1.000000  -0.051176  0.018057  0.017005   \n",
       "Publisher    -0.017938  0.029802 -0.051176   1.000000  0.005370  0.013237   \n",
       "NA_Sales      0.041976 -0.091285  0.018057   0.005370  1.000000  0.768923   \n",
       "EU_Sales      0.046748  0.006108  0.017005   0.013237  0.768923  1.000000   \n",
       "JP_Sales     -0.079621 -0.169387  0.030304   0.053019  0.451283  0.436379   \n",
       "Other_Sales   0.054493  0.041128  0.009802   0.014569  0.634518  0.726256   \n",
       "Global_Sales  0.027929 -0.074647  0.022215   0.019368  0.941269  0.903264   \n",
       "\n",
       "              JP_Sales  Other_Sales  Global_Sales  \n",
       "Platform     -0.079621     0.054493      0.027929  \n",
       "Year         -0.169387     0.041128     -0.074647  \n",
       "Genre         0.030304     0.009802      0.022215  \n",
       "Publisher     0.053019     0.014569      0.019368  \n",
       "NA_Sales      0.451283     0.634518      0.941269  \n",
       "EU_Sales      0.436379     0.726256      0.903264  \n",
       "JP_Sales      1.000000     0.290559      0.612774  \n",
       "Other_Sales   0.290559     1.000000      0.747964  \n",
       "Global_Sales  0.612774     0.747964      1.000000  "
      ],
      "text/html": [
       "<div>\n",
       "<style scoped>\n",
       "    .dataframe tbody tr th:only-of-type {\n",
       "        vertical-align: middle;\n",
       "    }\n",
       "\n",
       "    .dataframe tbody tr th {\n",
       "        vertical-align: top;\n",
       "    }\n",
       "\n",
       "    .dataframe thead th {\n",
       "        text-align: right;\n",
       "    }\n",
       "</style>\n",
       "<table border=\"1\" class=\"dataframe\">\n",
       "  <thead>\n",
       "    <tr style=\"text-align: right;\">\n",
       "      <th></th>\n",
       "      <th>Platform</th>\n",
       "      <th>Year</th>\n",
       "      <th>Genre</th>\n",
       "      <th>Publisher</th>\n",
       "      <th>NA_Sales</th>\n",
       "      <th>EU_Sales</th>\n",
       "      <th>JP_Sales</th>\n",
       "      <th>Other_Sales</th>\n",
       "      <th>Global_Sales</th>\n",
       "    </tr>\n",
       "  </thead>\n",
       "  <tbody>\n",
       "    <tr>\n",
       "      <th>Platform</th>\n",
       "      <td>1.000000</td>\n",
       "      <td>0.167648</td>\n",
       "      <td>0.026665</td>\n",
       "      <td>-0.017938</td>\n",
       "      <td>0.041976</td>\n",
       "      <td>0.046748</td>\n",
       "      <td>-0.079621</td>\n",
       "      <td>0.054493</td>\n",
       "      <td>0.027929</td>\n",
       "    </tr>\n",
       "    <tr>\n",
       "      <th>Year</th>\n",
       "      <td>0.167648</td>\n",
       "      <td>1.000000</td>\n",
       "      <td>-0.125366</td>\n",
       "      <td>0.029802</td>\n",
       "      <td>-0.091285</td>\n",
       "      <td>0.006108</td>\n",
       "      <td>-0.169387</td>\n",
       "      <td>0.041128</td>\n",
       "      <td>-0.074647</td>\n",
       "    </tr>\n",
       "    <tr>\n",
       "      <th>Genre</th>\n",
       "      <td>0.026665</td>\n",
       "      <td>-0.125366</td>\n",
       "      <td>1.000000</td>\n",
       "      <td>-0.051176</td>\n",
       "      <td>0.018057</td>\n",
       "      <td>0.017005</td>\n",
       "      <td>0.030304</td>\n",
       "      <td>0.009802</td>\n",
       "      <td>0.022215</td>\n",
       "    </tr>\n",
       "    <tr>\n",
       "      <th>Publisher</th>\n",
       "      <td>-0.017938</td>\n",
       "      <td>0.029802</td>\n",
       "      <td>-0.051176</td>\n",
       "      <td>1.000000</td>\n",
       "      <td>0.005370</td>\n",
       "      <td>0.013237</td>\n",
       "      <td>0.053019</td>\n",
       "      <td>0.014569</td>\n",
       "      <td>0.019368</td>\n",
       "    </tr>\n",
       "    <tr>\n",
       "      <th>NA_Sales</th>\n",
       "      <td>0.041976</td>\n",
       "      <td>-0.091285</td>\n",
       "      <td>0.018057</td>\n",
       "      <td>0.005370</td>\n",
       "      <td>1.000000</td>\n",
       "      <td>0.768923</td>\n",
       "      <td>0.451283</td>\n",
       "      <td>0.634518</td>\n",
       "      <td>0.941269</td>\n",
       "    </tr>\n",
       "    <tr>\n",
       "      <th>EU_Sales</th>\n",
       "      <td>0.046748</td>\n",
       "      <td>0.006108</td>\n",
       "      <td>0.017005</td>\n",
       "      <td>0.013237</td>\n",
       "      <td>0.768923</td>\n",
       "      <td>1.000000</td>\n",
       "      <td>0.436379</td>\n",
       "      <td>0.726256</td>\n",
       "      <td>0.903264</td>\n",
       "    </tr>\n",
       "    <tr>\n",
       "      <th>JP_Sales</th>\n",
       "      <td>-0.079621</td>\n",
       "      <td>-0.169387</td>\n",
       "      <td>0.030304</td>\n",
       "      <td>0.053019</td>\n",
       "      <td>0.451283</td>\n",
       "      <td>0.436379</td>\n",
       "      <td>1.000000</td>\n",
       "      <td>0.290559</td>\n",
       "      <td>0.612774</td>\n",
       "    </tr>\n",
       "    <tr>\n",
       "      <th>Other_Sales</th>\n",
       "      <td>0.054493</td>\n",
       "      <td>0.041128</td>\n",
       "      <td>0.009802</td>\n",
       "      <td>0.014569</td>\n",
       "      <td>0.634518</td>\n",
       "      <td>0.726256</td>\n",
       "      <td>0.290559</td>\n",
       "      <td>1.000000</td>\n",
       "      <td>0.747964</td>\n",
       "    </tr>\n",
       "    <tr>\n",
       "      <th>Global_Sales</th>\n",
       "      <td>0.027929</td>\n",
       "      <td>-0.074647</td>\n",
       "      <td>0.022215</td>\n",
       "      <td>0.019368</td>\n",
       "      <td>0.941269</td>\n",
       "      <td>0.903264</td>\n",
       "      <td>0.612774</td>\n",
       "      <td>0.747964</td>\n",
       "      <td>1.000000</td>\n",
       "    </tr>\n",
       "  </tbody>\n",
       "</table>\n",
       "</div>"
      ]
     },
     "execution_count": 9,
     "metadata": {},
     "output_type": "execute_result"
    }
   ],
   "execution_count": 9
  },
  {
   "metadata": {
    "ExecuteTime": {
     "end_time": "2024-11-08T23:07:54.991265Z",
     "start_time": "2024-11-08T23:07:54.786203Z"
    }
   },
   "cell_type": "code",
   "source": [
    "#Correlation Heatmap\n",
    "plt.figure(figsize = (10,10))\n",
    "sns.heatmap(corr, cmap = 'coolwarm')\n",
    "plt.show()"
   ],
   "id": "7290dd1ef211e1d4",
   "outputs": [
    {
     "data": {
      "text/plain": [
       "<Figure size 1000x1000 with 2 Axes>"
      ],
      "image/png": "[encoded data removed]"
     },
     "metadata": {},
     "output_type": "display_data"
    }
   ],
   "execution_count": 10
  },
  {
   "metadata": {},
   "cell_type": "markdown",
   "source": "## Data Prediction",
   "id": "ad250f0f5db337be"
  },
  {
   "metadata": {
    "ExecuteTime": {
     "end_time": "2024-11-08T23:11:49.694318Z",
     "start_time": "2024-11-08T23:11:49.686698Z"
    }
   },
   "cell_type": "code",
   "source": [
    "#features and target variables\n",
    "X = data_cleaned[['NA_Sales', 'EU_Sales', 'JP_Sales', 'Other_Sales', 'Year', 'Platform', 'Genre']]\n",
    "Y = data_cleaned[['Global_Sales']]\n",
    "#Data Pre-processing\n",
    "X = pd.get_dummies(X, columns=['Platform', 'Genre'], drop_first=True)\n",
    "\n",
    "X_train, X_test, Y_train, Y_test = train_test_split(X, Y, test_size = 0.2, random_state = 0)"
   ],
   "id": "bb4bbce7941da2f7",
   "outputs": [],
   "execution_count": 14
  },
  {
   "metadata": {
    "ExecuteTime": {
     "end_time": "2024-11-08T23:11:51.054231Z",
     "start_time": "2024-11-08T23:11:51.009767Z"
    }
   },
   "cell_type": "code",
   "source": [
    "#LinearRegression model \n",
    "model = LinearRegression()\n",
    "model.fit(X_train, Y_train)\n",
    "predictions = model.predict(X_test)"
   ],
   "id": "1652c9d0ef97da39",
   "outputs": [],
   "execution_count": 15
  },
  {
   "metadata": {
    "ExecuteTime": {
     "end_time": "2024-11-08T23:11:52.174538Z",
     "start_time": "2024-11-08T23:11:52.170088Z"
    }
   },
   "cell_type": "code",
   "source": [
    "mse =mean_squared_error(Y_test, predictions)\n",
    "mae =mean_absolute_error(Y_test, predictions)\n",
    "r2 =r2_score(Y_test, predictions)\n",
    "print('Mean Squared Error : ', mse )\n",
    "print('Mean Absolute Error : ', mae )\n",
    "print('R2 Score : ', r2)"
   ],
   "id": "22b84124fa5d8138",
   "outputs": [
    {
     "name": "stdout",
     "output_type": "stream",
     "text": [
      "Mean Squared Error :  2.82454226540146e-05\n",
      "Mean Absolute Error :  0.003054899141233172\n",
      "R2 Score :  0.9999862583351408\n"
     ]
    }
   ],
   "execution_count": 16
  },
  {
   "metadata": {
    "ExecuteTime": {
     "end_time": "2024-11-08T23:42:12.566669Z",
     "start_time": "2024-11-08T23:40:09.613914Z"
    }
   },
   "cell_type": "code",
   "source": [
    "#RandomForestRegressor\n",
    "Y = data_cleaned['Global_Sales']\n",
    "X_train, X_test, Y_train, Y_test = train_test_split(X, Y, test_size = 0.2, random_state = 0)\n",
    "param_grid = {\n",
    "    'n_estimators':[50,100,200],\n",
    "    'max_depth':[None,10,20,30],\n",
    "    'min_samples_split':[2,5,10]\n",
    "}\n",
    "rf_model = RandomizedSearchCV(RandomForestRegressor(), param_grid, n_iter=10, cv=5, random_state=0)\n",
    "rf_model.fit(X_train, Y_train)\n",
    "rf_Predictions = rf_model.predict(X_test)\n",
    "mse =mean_squared_error(Y_test, rf_Predictions)\n",
    "mae =mean_absolute_error(Y_test, rf_Predictions)\n",
    "r2 =r2_score(Y_test, rf_Predictions)\n",
    "print('Mean Squared Error : ', mse )\n",
    "print('Mean Absolute Error : ', mae )\n",
    "print('R2 Score : ', r2)"
   ],
   "id": "8b6b707940f44c7c",
   "outputs": [
    {
     "name": "stdout",
     "output_type": "stream",
     "text": [
      "Mean Squared Error :  0.03050998762039467\n",
      "Mean Absolute Error :  0.022448404230907694\n",
      "R2 Score :  0.9851566028990624\n"
     ]
    }
   ],
   "execution_count": 17
  }
 ],
 "metadata": {
  "kernelspec": {
   "display_name": "Python 3 (ipykernel)",
   "language": "python",
   "name": "python3"
  },
  "language_info": {
   "codemirror_mode": {
    "name": "ipython",
    "version": 3
   },
   "file_extension": ".py",
   "mimetype": "text/x-python",
   "name": "python",
   "nbconvert_exporter": "python",
   "pygments_lexer": "ipython3",
   "version": "3.12.4"
  }
 },
 "nbformat": 4,
 "nbformat_minor": 5
}
